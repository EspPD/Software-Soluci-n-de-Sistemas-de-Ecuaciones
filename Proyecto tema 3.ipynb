{
 "cells": [
  {
   "cell_type": "code",
   "execution_count": 39,
   "id": "appreciated-retention",
   "metadata": {},
   "outputs": [],
   "source": [
    "\n",
    "import numpy as np\n",
    "\n",
    "from math import *"
   ]
  },
  {
   "cell_type": "code",
   "execution_count": 40,
   "id": "dutch-salad",
   "metadata": {},
   "outputs": [],
   "source": [
    "T = np.array([[0,1/10,-1/5,0],[1/11,0,1/11,-3/11],[-1/5,1/10,0,1/10],[0,-3/8,1/8,0]])\n",
    "c = np.array([3/5,25/11,-11/10,15/8])\n",
    "x = np.array([0,0,0,0]) #vector de valores iniciales\n",
    "erroraceptado=0.01"
   ]
  },
  {
   "cell_type": "code",
   "execution_count": 41,
   "id": "educated-olympus",
   "metadata": {
    "scrolled": true
   },
   "outputs": [
    {
     "name": "stdout",
     "output_type": "stream",
     "text": [
      "[ 0.6         2.27272727 -1.1         1.875     ]\n",
      "                                                error 1\n",
      "[ 1.04727273  1.71590909 -0.80522727  0.88522727]\n",
      "                                                error 1.0\n",
      "[ 0.93263636  2.05330579 -1.04934091  1.13088068]\n",
      "                                                error 0.57682119205298\n",
      "[ 1.01519876  1.95369576 -0.96810863  0.97384272]\n",
      "                                                error 0.16431877641376524\n",
      "[ 0.9889913   2.01141473 -1.0102859   1.02135051]\n",
      "                                                error 0.08037994847125665\n",
      "[ 1.00319865  1.99224126 -0.99452174  0.99443374]\n",
      "                                                error 0.02869570385848171\n",
      "[ 0.99812847  2.00230688 -1.00197223  1.00359431]\n",
      "                                                error 0.013510798495147403\n"
     ]
    }
   ],
   "source": [
    "error=1\n",
    "while error>0.01:\n",
    "    resultado=np.dot(T,x) + c\n",
    "    print(resultado)\n",
    "    print(\"                                                error\",error)\n",
    "    numerador = np.amax( abs((resultado - x)))\n",
    "    denominador = np.amax( abs(resultado))\n",
    "    error = numerador/denominador\n",
    "    x=resultado"
   ]
  },
  {
   "cell_type": "code",
   "execution_count": null,
   "id": "improved-services",
   "metadata": {},
   "outputs": [],
   "source": []
  },
  {
   "cell_type": "code",
   "execution_count": 56,
   "id": "chicken-violence",
   "metadata": {},
   "outputs": [],
   "source": [
    "def jacobiano(x):\n",
    "    J = np.array(\n",
    "        [[3, x[2] * sin(x[1] * x[2]), x[1] * sin(x[1] * x[2])], [2 * x[0], -162 * (x[1] + 0.1), cos(x[2])],\n",
    "         [-x[1] * exp(-x[0] * x[1]), -x[0] * exp(-x[0] * x[1]), 20]])\n",
    "    JInversa = np.linalg.inv(J)\n",
    "    return JInversa\n",
    "\n",
    "\n",
    "def Fx(x):\n",
    "    x1 = 3 * x[0] - cos(x[1] * x[2]) - 1 / 2\n",
    "    x2 = x[0] ** 2 - 81 * (x[1] + 0.1) ** 2 + sin(x[2]) + 1.06\n",
    "    x3 = exp(-x[0] * x[1]) + 20 * x[2] + (10 * pi - 3) / 3\n",
    "    xk = np.array([x1, x2, x3])\n",
    "    return xk"
   ]
  },
  {
   "cell_type": "code",
   "execution_count": 60,
   "id": "miniature-trailer",
   "metadata": {},
   "outputs": [
    {
     "name": "stdout",
     "output_type": "stream",
     "text": [
      "Iteración: 1  Resultado [ 0.49986967  0.01946685 -0.52152047]         error 0.8082529730255646\n",
      "Iteración: 2  Resultado [ 0.50001424  0.00158859 -0.52355696]         error 0.03414768283982401\n",
      "Iteración: 3  Resultado [ 5.00000113e-01  1.24447833e-05 -5.23598450e-01]         error 0.003010220115725937\n"
     ]
    }
   ],
   "source": [
    "x = np.array([0.1, 0.1, -0.1])  # vector de valores iniciales\n",
    "error = 1\n",
    "c = 0\n",
    "while error > 0.01 and c < 10:\n",
    "    c += 1\n",
    "    r = jacobiano(x)\n",
    "    feval = Fx(x)\n",
    "    resultado = x - np.dot(r, feval)\n",
    "    numerador = np.amax(abs((resultado - x)))\n",
    "    denominador = np.amax(abs(resultado))\n",
    "    error = numerador / denominador\n",
    "    x = resultado\n",
    "\n",
    "    print(\"Iteración:\", c, \" Resultado\", resultado,\"        error\",error)\n"
   ]
  },
  {
   "cell_type": "code",
   "execution_count": null,
   "id": "large-mistress",
   "metadata": {},
   "outputs": [],
   "source": []
  },
  {
   "cell_type": "code",
   "execution_count": null,
   "id": "after-federal",
   "metadata": {},
   "outputs": [],
   "source": []
  }
 ],
 "metadata": {
  "kernelspec": {
   "display_name": "Python 3",
   "language": "python",
   "name": "python3"
  },
  "language_info": {
   "codemirror_mode": {
    "name": "ipython",
    "version": 3
   },
   "file_extension": ".py",
   "mimetype": "text/x-python",
   "name": "python",
   "nbconvert_exporter": "python",
   "pygments_lexer": "ipython3",
   "version": "3.8.5"
  }
 },
 "nbformat": 4,
 "nbformat_minor": 5
}
